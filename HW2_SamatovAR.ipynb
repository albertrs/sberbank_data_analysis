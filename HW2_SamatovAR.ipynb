{
 "cells": [
  {
   "cell_type": "markdown",
   "metadata": {},
   "source": [
    "### Упражнение 1\n",
    "\n",
    "На одном графике изобразите время затраченное на вычисление с использованием массивов numpy и стандартных списков в питоне.  \n",
    "Для более точных результатов замеряйте время выполнения функции несколько раз и усредняйте. \n",
    "* Используйте функцию `z = 2*x**2 + 4*y`\n",
    "* Перемножение матриц размера n на n"
   ]
  },
  {
   "cell_type": "code",
   "execution_count": 270,
   "metadata": {},
   "outputs": [],
   "source": [
    "import numpy as np\n",
    "import time\n",
    "import matplotlib.pyplot as plt"
   ]
  },
  {
   "cell_type": "code",
   "execution_count": 295,
   "metadata": {},
   "outputs": [
    {
     "name": "stdout",
     "output_type": "stream",
     "text": [
      "Numpy is in this example 0.07751083374023438, 0.0010004043579101562 times faster!\n"
     ]
    },
    {
     "data": {
      "image/png": "[encoded data removed]",
      "text/plain": [
       "<Figure size 432x288 with 1 Axes>"
      ]
     },
     "metadata": {
      "needs_background": "light"
     },
     "output_type": "display_data"
    }
   ],
   "source": [
    "size_of_vec = 100000\n",
    "def python():\n",
    "    start = time.time()\n",
    "    X = range(size_of_vec)\n",
    "    Y = range(size_of_vec)\n",
    "    Z = [2*X[i]**2 + 4*Y[i] for i in range(len(X))]\n",
    "    return time.time() - start\n",
    "\n",
    "def numpy():\n",
    "    start = time.time()\n",
    "    X = np.arange(size_of_vec)\n",
    "    Y = np.arange(size_of_vec)\n",
    "    Z = 2*X**2 + 4*Y\n",
    "    return time.time() - start\n",
    "\n",
    "print(\"Numpy is in this example {}, {} times faster!\".format(python(), numpy()))\n",
    "\n",
    "from IPython import display\n",
    "plt.hist(python())\n",
    "plt.hist(numpy())\n",
    "#plt.legend('python', 'numpy')\n",
    "plt.show()\n",
    "    \n",
    "display.clear_output(wait=True)\n",
    "time.sleep(0.3)"
   ]
  },
  {
   "cell_type": "markdown",
   "metadata": {},
   "source": [
    "### Упражнение 2\n",
    "* Создайте массив чисел от 2 до 75. Выведите только нечётные. \n",
    "* Присвойте нечётным числам этого массива значение -1.\n",
    "\n"
   ]
  },
  {
   "cell_type": "code",
   "execution_count": 11,
   "metadata": {},
   "outputs": [
    {
     "data": {
      "text/plain": [
       "array([ 2,  4,  6,  8, 10, 12, 14, 16, 18, 20, 22, 24, 26, 28, 30, 32, 34,\n",
       "       36, 38, 40, 42, 44, 46, 48, 50, 52, 54, 56, 58, 60, 62, 64, 66, 68,\n",
       "       70, 72, 74])"
      ]
     },
     "execution_count": 11,
     "metadata": {},
     "output_type": "execute_result"
    }
   ],
   "source": [
    "a = np.arange(2,76)\n",
    "a[a%2==0]"
   ]
  },
  {
   "cell_type": "code",
   "execution_count": 12,
   "metadata": {},
   "outputs": [
    {
     "data": {
      "text/plain": [
       "array([ 2,  3,  4,  5,  6,  7,  8,  9, 10, 11, 12, 13, 14, 15, 16, 17, 18,\n",
       "       19, 20, 21, 22, 23, 24, 25, 26, 27, 28, 29, 30, 31, 32, 33, 34, 35,\n",
       "       36, 37, 38, 39, 40, 41, 42, 43, 44, 45, 46, 47, 48, 49, 50, 51, 52,\n",
       "       53, 54, 55, 56, 57, 58, 59, 60, 61, 62, 63, 64, 65, 66, 67, 68, 69,\n",
       "       70, 71, 72, 73, 74, 75])"
      ]
     },
     "execution_count": 12,
     "metadata": {},
     "output_type": "execute_result"
    }
   ],
   "source": [
    "a"
   ]
  },
  {
   "cell_type": "code",
   "execution_count": 13,
   "metadata": {},
   "outputs": [
    {
     "data": {
      "text/plain": [
       "array([ 2, -1,  4, -1,  6, -1,  8, -1, 10, -1, 12, -1, 14, -1, 16, -1, 18,\n",
       "       -1, 20, -1, 22, -1, 24, -1, 26, -1, 28, -1, 30, -1, 32, -1, 34, -1,\n",
       "       36, -1, 38, -1, 40, -1, 42, -1, 44, -1, 46, -1, 48, -1, 50, -1, 52,\n",
       "       -1, 54, -1, 56, -1, 58, -1, 60, -1, 62, -1, 64, -1, 66, -1, 68, -1,\n",
       "       70, -1, 72, -1, 74, -1])"
      ]
     },
     "execution_count": 13,
     "metadata": {},
     "output_type": "execute_result"
    }
   ],
   "source": [
    "a[a%2!=0] = -1\n",
    "a"
   ]
  },
  {
   "cell_type": "markdown",
   "metadata": {},
   "source": [
    "### Упражнение 3\n",
    "\n",
    "* Найдите в документации функцию, которая удаляет из одного массива элементы, которые есть в другом. \n",
    "* Приведите примеры использования."
   ]
  },
  {
   "cell_type": "code",
   "execution_count": 20,
   "metadata": {},
   "outputs": [
    {
     "data": {
      "text/plain": [
       "array([0, 1, 2, 4, 6, 7, 9])"
      ]
     },
     "execution_count": 20,
     "metadata": {},
     "output_type": "execute_result"
    }
   ],
   "source": [
    "a = np.array([1,2,3,4,5,6,7,8,9,0])\n",
    "b = np.array([3,5,8])\n",
    "np.setdiff1d(a, b)"
   ]
  },
  {
   "cell_type": "markdown",
   "metadata": {},
   "source": [
    "### Упражнение 4\n",
    "\n",
    "* Создайте случайную квадратную матрицу случайного размера от 10 до 100. \n",
    "* Найдите максимум и сумму элементов.\n",
    "* Поделите каждый элемент матрицы на максимум.\n",
    "* Отнимите от каждой строки матрицы среднее по строке.\n",
    "* Замените максимальное значение на -1."
   ]
  },
  {
   "cell_type": "code",
   "execution_count": 73,
   "metadata": {},
   "outputs": [
    {
     "data": {
      "text/plain": [
       "'Максимум = 99.946173498023, Сумма = 200369.44314012164'"
      ]
     },
     "execution_count": 73,
     "metadata": {},
     "output_type": "execute_result"
    }
   ],
   "source": [
    "s =np.random.randint(10,100)\n",
    "a =np.random.rand(s,s)*100\n",
    "'Максимум = {}, Сумма = {}'.format(a.max(), a.sum())"
   ]
  },
  {
   "cell_type": "code",
   "execution_count": 74,
   "metadata": {},
   "outputs": [
    {
     "data": {
      "text/plain": [
       "array([[0.19039872, 0.04209319, 0.30426561, ..., 0.76053062, 0.33278339,\n",
       "        0.39213804],\n",
       "       [0.01270709, 0.34813366, 0.5352288 , ..., 0.42491128, 0.82272508,\n",
       "        0.3371153 ],\n",
       "       [0.16204495, 0.06244046, 0.55120751, ..., 0.78482913, 0.50781344,\n",
       "        0.76246153],\n",
       "       ...,\n",
       "       [0.70847887, 0.54325183, 0.20189364, ..., 0.73063407, 0.84135576,\n",
       "        0.08769879],\n",
       "       [0.54357527, 0.77378409, 0.11649355, ..., 0.82632587, 0.13924532,\n",
       "        0.67993646],\n",
       "       [0.62504877, 0.95964883, 0.81014909, ..., 0.75961768, 0.94723834,\n",
       "        0.39616827]])"
      ]
     },
     "execution_count": 74,
     "metadata": {},
     "output_type": "execute_result"
    }
   ],
   "source": [
    "a/a.max()"
   ]
  },
  {
   "cell_type": "code",
   "execution_count": 75,
   "metadata": {},
   "outputs": [
    {
     "data": {
      "text/plain": [
       "array([[-31.76540579, -46.58797596, -20.38484576, ...,  25.21709653,\n",
       "        -17.53460299, -11.60233226],\n",
       "       [-47.23857351, -13.71397167,   4.98547118, ...,  -6.04034294,\n",
       "         33.7196245 , -14.8152149 ],\n",
       "       [-28.00264006, -37.95772815,  10.89266816, ...,  34.24225565,\n",
       "          6.55559742,  32.00669949],\n",
       "       ...,\n",
       "       [ 17.56458564,   1.05077505, -33.06667015, ...,  19.7789124 ,\n",
       "         30.84512248, -44.48000845],\n",
       "       [  3.4323702 ,  26.44086148, -39.25281307, ...,  31.69221141,\n",
       "        -36.97886043,  17.06114956],\n",
       "       [ 11.26468317,  44.7066792 ,  29.7647526 , ...,  24.71433104,\n",
       "         43.4662987 , -11.61104664]])"
      ]
     },
     "execution_count": 75,
     "metadata": {},
     "output_type": "execute_result"
    }
   ],
   "source": [
    "a - a.mean(axis=1).reshape(s,1)"
   ]
  },
  {
   "cell_type": "code",
   "execution_count": 77,
   "metadata": {},
   "outputs": [],
   "source": [
    "a[a == a.max()] = -1"
   ]
  },
  {
   "cell_type": "markdown",
   "metadata": {},
   "source": [
    "### Упражнение 5\n",
    "* Напишите функцию, которая берет многомерный вещественный массив с пропущенными значениями (np.nan) и возвращает его копию с заполненными пропусками (заменять средним значением всех элементов массива). Если в массиве одни пропущенные значения, заполните их нулями."
   ]
  },
  {
   "cell_type": "code",
   "execution_count": 109,
   "metadata": {},
   "outputs": [
    {
     "data": {
      "text/plain": [
       "array([[3., 2., 3.],\n",
       "       [1., 6., 3.]])"
      ]
     },
     "execution_count": 109,
     "metadata": {},
     "output_type": "execute_result"
    }
   ],
   "source": [
    "def ar(x):\n",
    "    if np.isnan(x[~np.isnan(x)].mean()):\n",
    "        x[np.isnan(x)] = 0\n",
    "    else:\n",
    "        x[np.isnan(x)] = x[~np.isnan(x)].mean()\n",
    "    return x\n",
    "a = np.array([[np.nan, 2, 3],\n",
    "             [1, 6, np.nan]])\n",
    "ar(a)\n"
   ]
  },
  {
   "cell_type": "code",
   "execution_count": 110,
   "metadata": {},
   "outputs": [
    {
     "name": "stderr",
     "output_type": "stream",
     "text": [
      "C:\\Users\\alber.LAPTOP-1ACVKMGI\\anaconda3\\lib\\site-packages\\ipykernel_launcher.py:2: RuntimeWarning: Mean of empty slice.\n",
      "  \n"
     ]
    },
    {
     "data": {
      "text/plain": [
       "array([[0.],\n",
       "       [0.]])"
      ]
     },
     "execution_count": 110,
     "metadata": {},
     "output_type": "execute_result"
    }
   ],
   "source": [
    "b = np.array([[np.nan],\n",
    "             [np.nan]])\n",
    "ar(b)"
   ]
  },
  {
   "cell_type": "markdown",
   "metadata": {},
   "source": [
    "### Упражнение 6\n",
    "* Напишите функцию которая нормализирует заданный numpy-массив, так чтобы его значения лежали в интервале $[0, 1]$."
   ]
  },
  {
   "cell_type": "code",
   "execution_count": 120,
   "metadata": {},
   "outputs": [
    {
     "data": {
      "text/plain": [
       "array([0.   , 0.125, 0.25 , 0.375, 1.   ])"
      ]
     },
     "execution_count": 120,
     "metadata": {},
     "output_type": "execute_result"
    }
   ],
   "source": [
    "def norm(x):\n",
    "    x = (x - x.min())/(x.max()-x.min())\n",
    "    return x\n",
    "a = np.array([2,3,4,5,10])\n",
    "norm(a)"
   ]
  },
  {
   "cell_type": "markdown",
   "metadata": {},
   "source": [
    "### Упражнение 7\n",
    "* Запишите numpy-array в файл.\n",
    "* Считайте numpy-array из файла."
   ]
  },
  {
   "cell_type": "code",
   "execution_count": 260,
   "metadata": {},
   "outputs": [
    {
     "data": {
      "text/plain": [
       "array([[26., 15.,  6., 85., 50.],\n",
       "       [10., 73., 23., 14.,  8.],\n",
       "       [18., 99., 74., 80., 58.],\n",
       "       [53., 65., 28., 67., 34.]])"
      ]
     },
     "execution_count": 260,
     "metadata": {},
     "output_type": "execute_result"
    }
   ],
   "source": [
    "a = np.round(np.random.rand(4,5)*100)\n",
    "a"
   ]
  },
  {
   "cell_type": "code",
   "execution_count": 261,
   "metadata": {},
   "outputs": [],
   "source": [
    "np.save('saved_a', a)"
   ]
  },
  {
   "cell_type": "code",
   "execution_count": 262,
   "metadata": {},
   "outputs": [
    {
     "data": {
      "text/plain": [
       "array([[26., 15.,  6., 85., 50.],\n",
       "       [10., 73., 23., 14.,  8.],\n",
       "       [18., 99., 74., 80., 58.],\n",
       "       [53., 65., 28., 67., 34.]])"
      ]
     },
     "execution_count": 262,
     "metadata": {},
     "output_type": "execute_result"
    }
   ],
   "source": [
    "load_a = np.load('saved_a.npy')\n",
    "load_a"
   ]
  },
  {
   "cell_type": "markdown",
   "metadata": {},
   "source": [
    "### Упражнение 8\n",
    "* Создайте случайный массив\n",
    "* Найдите в массиве элемент ближайший к данному"
   ]
  },
  {
   "cell_type": "code",
   "execution_count": 123,
   "metadata": {},
   "outputs": [
    {
     "data": {
      "text/plain": [
       "array([30., 42., 57., 91.,  9.,  6., 22., 64., 61., 39.])"
      ]
     },
     "execution_count": 123,
     "metadata": {},
     "output_type": "execute_result"
    }
   ],
   "source": [
    "a = np.round(np.random.rand(10)*100)\n",
    "a"
   ]
  },
  {
   "cell_type": "code",
   "execution_count": 135,
   "metadata": {},
   "outputs": [
    {
     "data": {
      "text/plain": [
       "39.0"
      ]
     },
     "execution_count": 135,
     "metadata": {},
     "output_type": "execute_result"
    }
   ],
   "source": [
    "b=35\n",
    "a[np.argmin(np.abs(a-b))]"
   ]
  },
  {
   "cell_type": "markdown",
   "metadata": {},
   "source": [
    "### Упражнение 9"
   ]
  },
  {
   "cell_type": "markdown",
   "metadata": {},
   "source": [
    "* Напишите функцию, которая возвращает  $n \\times m$ целочисленную матрицу с заданным значением на границах матрицы и с заданным значением внутри"
   ]
  },
  {
   "cell_type": "code",
   "execution_count": 157,
   "metadata": {},
   "outputs": [
    {
     "data": {
      "text/plain": [
       "array([[9., 9., 9., 9., 9., 9., 9.],\n",
       "       [9., 3., 3., 3., 3., 3., 9.],\n",
       "       [9., 3., 3., 3., 3., 3., 9.],\n",
       "       [9., 3., 3., 3., 3., 3., 9.],\n",
       "       [9., 9., 9., 9., 9., 9., 9.]])"
      ]
     },
     "execution_count": 157,
     "metadata": {},
     "output_type": "execute_result"
    }
   ],
   "source": [
    "def custom_fill(r,c,i_num,o_num):\n",
    "    a = np.full((r,c), np.nan)\n",
    "    a[1:-1,1:-1] = i_num\n",
    "    a[np.isnan(a)] = o_num\n",
    "    return a\n",
    "custom_fill(5,7,3,9)"
   ]
  },
  {
   "cell_type": "markdown",
   "metadata": {},
   "source": [
    "### Упражнение 10\n",
    "* Напишите функцию, которая сортирует строки данной матрицы по значениям заданного столбца в порядке убывания. "
   ]
  },
  {
   "cell_type": "code",
   "execution_count": 223,
   "metadata": {},
   "outputs": [
    {
     "data": {
      "text/plain": [
       "array([[47., 89.,  4., 46., 15.],\n",
       "       [34., 57., 99., 32., 36.],\n",
       "       [94., 28., 94., 72.,  3.],\n",
       "       [72., 52.,  8., 11., 30.]])"
      ]
     },
     "execution_count": 223,
     "metadata": {},
     "output_type": "execute_result"
    }
   ],
   "source": [
    "a = np.round(np.random.rand(4,5)*100)\n",
    "a"
   ]
  },
  {
   "cell_type": "code",
   "execution_count": 234,
   "metadata": {},
   "outputs": [
    {
     "data": {
      "text/plain": [
       "array([[34., 57., 99., 32., 36.],\n",
       "       [72., 52.,  8., 11., 30.],\n",
       "       [47., 89.,  4., 46., 15.],\n",
       "       [94., 28., 94., 72.,  3.]])"
      ]
     },
     "execution_count": 234,
     "metadata": {},
     "output_type": "execute_result"
    }
   ],
   "source": [
    "def row_sort(x,c_num):\n",
    "    return x[-(-np.argsort(-x[:,c_num-1]))[:x.shape[0]]]\n",
    "row_sort(a,5)"
   ]
  },
  {
   "cell_type": "markdown",
   "metadata": {},
   "source": [
    "### Упражнение 11\n",
    "\n",
    "* Напишите функцию, которая создает двоичную матрицу шахматной доски с заданным shape\n",
    "\n",
    "Пример 4x4:\n",
    "```python\n",
    "[[0, 1, 0, 1],\n",
    " [1, 0, 1, 0],\n",
    " [0, 1, 0, 1],\n",
    " [1, 0, 1, 0]]\n",
    "```"
   ]
  },
  {
   "cell_type": "code",
   "execution_count": 259,
   "metadata": {},
   "outputs": [
    {
     "data": {
      "text/plain": [
       "array([[0, 1, 0, 1, 0, 1, 0, 1, 0, 1, 0],\n",
       "       [1, 0, 1, 0, 1, 0, 1, 0, 1, 0, 1],\n",
       "       [0, 1, 0, 1, 0, 1, 0, 1, 0, 1, 0],\n",
       "       [1, 0, 1, 0, 1, 0, 1, 0, 1, 0, 1],\n",
       "       [0, 1, 0, 1, 0, 1, 0, 1, 0, 1, 0],\n",
       "       [1, 0, 1, 0, 1, 0, 1, 0, 1, 0, 1],\n",
       "       [0, 1, 0, 1, 0, 1, 0, 1, 0, 1, 0],\n",
       "       [1, 0, 1, 0, 1, 0, 1, 0, 1, 0, 1],\n",
       "       [0, 1, 0, 1, 0, 1, 0, 1, 0, 1, 0]])"
      ]
     },
     "execution_count": 259,
     "metadata": {},
     "output_type": "execute_result"
    }
   ],
   "source": [
    "def chess(r_num, c_num):\n",
    "    x = np.array([[0,1],\n",
    "                 [1,0]])\n",
    "    if (r_num%2==0) & (c_num%2==0):\n",
    "        return np.tile(x, (int(r_num/2), int(c_num/2)))\n",
    "    if (r_num%2==0) & (c_num%2!=0):\n",
    "        return np.tile(x, (int(r_num/2), int((c_num+1)/2)))[:,:-1]\n",
    "    if (r_num%2!=0) & (c_num%2==0):\n",
    "        return np.tile(x, (int((r_num+1)/2), int(c_num/2)))[:-1]\n",
    "    if (r_num%2!=0) & (c_num%2!=0):\n",
    "        return np.tile(x, (int((r_num+1)/2), int((c_num+1)/2)))[:-1,:-1]\n",
    "chess(9,11)"
   ]
  },
  {
   "cell_type": "markdown",
   "metadata": {},
   "source": [
    "### Упражнение 12\n",
    "* Напишите игру [life](https://en.wikipedia.org/wiki/Conway%27s_Game_of_Life), используя массивы numpy.\n",
    "* Визуализируйте интерактивно ее результаты.\n",
    "\n"
   ]
  }
 ],
 "metadata": {
  "kernelspec": {
   "display_name": "Python 3",
   "language": "python",
   "name": "python3"
  },
  "language_info": {
   "codemirror_mode": {
    "name": "ipython",
    "version": 3
   },
   "file_extension": ".py",
   "mimetype": "text/x-python",
   "name": "python",
   "nbconvert_exporter": "python",
   "pygments_lexer": "ipython3",
   "version": "3.7.6"
  }
 },
 "nbformat": 4,
 "nbformat_minor": 2
}
